{
 "cells": [
  {
   "cell_type": "code",
   "execution_count": 23,
   "metadata": {},
   "outputs": [],
   "source": [
    "import numpy as np\n",
    "import matplotlib.pyplot as plt\n",
    "import matplotlib.cm as cm\n",
    "from IPython import display\n",
    "import time\n",
    "from ipywidgets import *\n",
    "from scipy.spatial.distance import pdist, squareform\n",
    "\n",
    "def ker(x,alpha):\n",
    "    # RBF exp(alpha * |x-y|^2)\n",
    "    return np.exp(-0.5 * x  * alpha)\n",
    "\n",
    "def ker_grad(x,dist,alpha):\n",
    "    # gradient of ker(x,y)=RBF exp(alpha * |x-y|^2)\n",
    "    return  -1 * alpha * x * ker(dist,alpha)\n",
    "\n",
    "def dist(x,mu=-2,std=1,mu2=2, std2=1):\n",
    "    return ((1/(std * np.sqrt(2*np.pi))) * np.exp(-0.5 * ((x-mu)/std)**2)\n",
    "            + (3/(std2 * np.sqrt(2*np.pi))) * np.exp(-0.5 * ((x-mu2)/std2)**2))\n",
    "\n",
    "def grad_dist(x,mu=-2,std=1,mu2=2, std2=1):\n",
    "    return ((-1*(x-mu)/std**2) * (1/(std * np.sqrt(2*np.pi))) * np.exp(-0.5 * ((x-mu)/std)**2)\n",
    "        + (-1*(x-mu2)/std2**2) * (3/(std2 * np.sqrt(2*np.pi))) * np.exp(-0.5 * ((x-mu2)/std2)**2))\n",
    "\n",
    "x_lin = np.linspace(-5, 6, num=50)\n",
    "y_lin = [dist(xi) for xi in x_lin]\n",
    "\n",
    "def forward_svgd(x,num_itr=100,alpha_mul=1,step_sz=1):\n",
    "    x_steps = []\n",
    "    x_steps.append(x)\n",
    "    colors = cm.rainbow(np.linspace(0, 1, len(x)))\n",
    "    plt.plot(x_lin, y_lin)\n",
    "    \n",
    "    historical_grad = 0\n",
    "    for i in range(num_itr):\n",
    "        \n",
    "        norm_dist = squareform(pdist(np.expand_dims(x, 1)))\n",
    "        \n",
    "        x_diff = np.expand_dims(x, 1) - np.expand_dims(x,0)\n",
    "        \n",
    "        med = np.median(np.sqrt(norm_dist)) \n",
    "        alpha = alpha_mul * np.log(x.shape[0]) / (med)\n",
    "\n",
    "        k = ker(norm_dist,alpha)\n",
    "\n",
    "        \n",
    "        grad_k = np.mean(ker_grad(x_diff,norm_dist,alpha),1)\n",
    "        grad = np.mean(np.expand_dims(grad_dist(x),1) * k,1) - grad_k\n",
    "        \n",
    "        x = x + step_sz * grad #()\n",
    "\n",
    "        y = dist(x)\n",
    "        if (i%100)==0:\n",
    "            plt.clf()\n",
    "            plt.cla()\n",
    "            plt.plot(x_lin, y_lin)\n",
    "            \n",
    "            #for i in range(len(colors)):            \n",
    "            #    plt.plot(x[i], 0, '*',color=colors[i])\n",
    "                \n",
    "            weights = (np.ones_like(x) / len(x))\n",
    "            plt.hist(x, 25, weights=weights * 5)\n",
    "            \n",
    "            display.clear_output(wait=True)\n",
    "            display.display(plt.gcf())\n",
    "            \n",
    "\n",
    "    return "
   ]
  },
  {
   "cell_type": "code",
   "execution_count": 24,
   "metadata": {},
   "outputs": [],
   "source": [
    "def show_articles_more_than(num_particles,step_size,alpha_mul):\n",
    "    x_lin_in = np.random.normal(-4, 0.5, num_particles)\n",
    "    forward_svgd(x_lin_in,num_itr=100000,alpha_mul=alpha_mul,step_sz=step_size)\n",
    "    print('done')\n",
    "    return "
   ]
  },
  {
   "cell_type": "code",
   "execution_count": 25,
   "metadata": {},
   "outputs": [
    {
     "data": {
      "application/vnd.jupyter.widget-view+json": {
       "model_id": "e9e8db26dcef4973b21541ed04cd1ec2",
       "version_major": 2,
       "version_minor": 0
      },
      "text/plain": [
       "interactive(children=(IntSlider(value=500, description='num_particles', max=1000), FloatSlider(value=5.0, desc…"
      ]
     },
     "metadata": {},
     "output_type": "display_data"
    },
    {
     "data": {
      "image/png": "[encoded data removed]",
      "text/plain": [
       "<Figure size 432x288 with 1 Axes>"
      ]
     },
     "metadata": {
      "needs_background": "light"
     },
     "output_type": "display_data"
    }
   ],
   "source": [
    "interact_manual(show_articles_more_than,num_particles=(1, 1000, 1),step_size=(0, 10, 0.01),alpha_mul=(0, 10, 0.1));\n"
   ]
  },
  {
   "cell_type": "code",
   "execution_count": null,
   "metadata": {},
   "outputs": [],
   "source": []
  },
  {
   "cell_type": "code",
   "execution_count": null,
   "metadata": {},
   "outputs": [],
   "source": []
  }
 ],
 "metadata": {
  "kernelspec": {
   "display_name": "Python 3",
   "language": "python",
   "name": "python3"
  },
  "language_info": {
   "codemirror_mode": {
    "name": "ipython",
    "version": 3
   },
   "file_extension": ".py",
   "mimetype": "text/x-python",
   "name": "python",
   "nbconvert_exporter": "python",
   "pygments_lexer": "ipython3",
   "version": "3.7.4"
  }
 },
 "nbformat": 4,
 "nbformat_minor": 4
}
